{
  "nbformat": 4,
  "nbformat_minor": 0,
  "metadata": {
    "colab": {
      "name": "NueralNetworkFromScratch.ipynb",
      "provenance": [],
      "collapsed_sections": [],
      "authorship_tag": "ABX9TyOQ/cpgX2G9xHGUhdGRY590",
      "include_colab_link": true
    },
    "kernelspec": {
      "name": "python3",
      "display_name": "Python 3"
    },
    "language_info": {
      "name": "python"
    }
  },
  "cells": [
    {
      "cell_type": "markdown",
      "metadata": {
        "id": "view-in-github",
        "colab_type": "text"
      },
      "source": [
        "<a href=\"https://colab.research.google.com/github/krucx/ML_from_scratch/blob/main/NueralNetworkFromScratch.ipynb\" target=\"_parent\"><img src=\"https://colab.research.google.com/assets/colab-badge.svg\" alt=\"Open In Colab\"/></a>"
      ]
    },
    {
      "cell_type": "code",
      "metadata": {
        "id": "qtO3duLISI4X"
      },
      "source": [
        "import numpy as np\n",
        "import pandas as pd\n",
        "from sklearn import preprocessing\n",
        "import matplotlib.pyplot as plt\n",
        "from sklearn.utils import shuffle"
      ],
      "execution_count": 219,
      "outputs": []
    },
    {
      "cell_type": "code",
      "metadata": {
        "id": "46u8bAQ3SSmK"
      },
      "source": [
        "def initialise_weights(nueron_layers):\n",
        "  weight_list = []\n",
        "  biases = []\n",
        "  for i in range(len(nueron_layers)-1):\n",
        "    weight_list.append(np.random.randn(nueron_layers[i],nueron_layers[i+1]))\n",
        "    biases.append(np.random.randn(1,nueron_layers[i+1]))\n",
        "  \n",
        "  return weight_list,biases\n",
        "\n",
        "def sigmoid(z):\n",
        "  return 1/(1+np.exp(-z))\n",
        "\n",
        "def det_sigmoid(z):\n",
        "  return (np.exp(-z)/(1+np.exp(-z))**2)\n",
        "\n",
        "def forward_propogation(input,weight_list,biases):\n",
        "  x = np.reshape(np.array(input),(1,len(input)))\n",
        "  a = [x]\n",
        "  z = [1]\n",
        "  for i,weight in enumerate(weight_list):\n",
        "    x = np.matmul(x,weight) + biases[i]\n",
        "    z.append(x)\n",
        "    x = sigmoid(x)\n",
        "    a.append(x)\n",
        "  return z,a\n",
        "\n",
        "def loss_function(predicted,expected):\n",
        "  return -1*np.sum(np.multiply(expected,np.log(predicted))+np.multiply(1-expected,np.log(1-predicted)))/3\n",
        "\n",
        "def backpropogation(weight_list,biases,z,a,expected,lr):\n",
        "\n",
        "  dz = a[-1] - expected\n",
        "\n",
        "  for i in range(2,len(a)+1):\n",
        "    dw = np.matmul(a[-i].T,dz)\n",
        "    weight_list[1-i] = weight_list[1-i] - lr*dw\n",
        "    biases[1-i] = biases[1-i] - lr*dz\n",
        "    #print(weight_list[1-i].shape)\n",
        "    dz = np.matmul(dz,weight_list[1-i].T)*det_sigmoid(z[-i])\n",
        "\n",
        "def training(weight_list,biases,input,expected,lr):\n",
        "  l = len(expected)\n",
        "  expected = np.reshape(expected,(1,l))\n",
        "  z,a = forward_propogation(input,weight_list,biases)\n",
        "  backpropogation(weight_list,biases,z,a,expected,lr)\n",
        "  return loss_function(a[-1],expected)\n",
        "\n",
        "#bce = tf.keras.losses.BinaryCrossentropy(from_logits=False)\n",
        "#print(bce([[1.0,0.0,1.0]],predicted))"
      ],
      "execution_count": 220,
      "outputs": []
    },
    {
      "cell_type": "code",
      "metadata": {
        "colab": {
          "base_uri": "https://localhost:8080/",
          "height": 281
        },
        "id": "k1Cu66BkE2Yy",
        "outputId": "a747ed7c-5bfa-4ea4-ddaf-ce1662075096"
      },
      "source": [
        "boundary = [0.5,-1,0.25]\n",
        "\n",
        "def createDataset(theta=[0.5,-1,0.25],n=100):\n",
        "  X=[]\n",
        "  Y=[]\n",
        "  for i in range(n):\n",
        "    X.append([np.random.rand(), np.random.rand()])\n",
        "    if X[-1][0]*theta[0] + X[-1][1]*theta[1] + theta[2]>=0:\n",
        "      Y.append([1])\n",
        "    else:\n",
        "      Y.append([0])\n",
        "  return X,Y\n",
        "\n",
        "def visualize_dataset_with_basis(X,Y,theta,line_color='g'):\n",
        "  color = ['r' if i[0]==1 else 'b' for i in Y]\n",
        "  xs=[]\n",
        "  ys=[]\n",
        "  for i,j in X:\n",
        "    xs.append(i)\n",
        "    ys.append(j)\n",
        "  plt.scatter(x=xs,y=ys,c=color)\n",
        "  plt.plot(xs,(-theta[0]*np.array(xs)-theta[2])/theta[1],c=line_color)\n",
        "\n",
        "X_t,Y_t = createDataset(boundary,50)\n",
        "plt.title('Original Decision boundary')\n",
        "visualize_dataset_with_basis(X_t,Y_t,boundary)\n",
        "\n",
        "def accuracy(X_t,Y_t,weight_list,biases):\n",
        "  correct = 0\n",
        "  for i in range(len(X_t)):\n",
        "    input = X_t[i]\n",
        "    z,a = forward_propogation(input,weight_list,biases)\n",
        "    if (a[-1][0]>=0.5)==Y_t[i][0]:\n",
        "      correct+=1\n",
        "  return correct/len(X_t)"
      ],
      "execution_count": 221,
      "outputs": [
        {
          "output_type": "display_data",
          "data": {
            "image/png": "[encoded data removed]",
            "text/plain": [
              "<Figure size 432x288 with 1 Axes>"
            ]
          },
          "metadata": {
            "tags": [],
            "needs_background": "light"
          }
        }
      ]
    },
    {
      "cell_type": "code",
      "metadata": {
        "colab": {
          "base_uri": "https://localhost:8080/"
        },
        "id": "0IeQpyf7FP2U",
        "outputId": "513c2d88-6d9f-42e7-a51c-d232008b7090"
      },
      "source": [
        "print(X_t[:5])\n",
        "print(Y_t[:5])"
      ],
      "execution_count": 222,
      "outputs": [
        {
          "output_type": "stream",
          "text": [
            "[[0.6201440611784487, 0.45910571698153957], [0.10692824088812158, 0.7471112570856242], [0.05554588534359439, 0.028302324299817494], [0.18093806263264112, 0.38457512639762326], [0.3791861277876337, 0.11657696673041584]]\n",
            "[[1], [0], [1], [0], [1]]\n"
          ],
          "name": "stdout"
        }
      ]
    },
    {
      "cell_type": "code",
      "metadata": {
        "id": "eJR5zkJ5GDGp"
      },
      "source": [
        "nueron_layers = [2,4,1] #list(map(int,input('Enter layer-wise nuerons').strip().split()))\n",
        "\n",
        "def complete_training(nueron_layers,X_t,Y_t,epochs=20,lr=0.1):\n",
        "  weight_list,biases = initialise_weights(nueron_layers)\n",
        "  lossTotal = []\n",
        "  for i in range(epochs):\n",
        "    loss = 0\n",
        "    for i in range(len(X_t)):\n",
        "      input = X_t[i]\n",
        "      expected = Y_t[i]\n",
        "      loss += training(weight_list,biases,input,expected,lr)\n",
        "    lossTotal.append(loss/len(X_t))\n",
        "  acc = accuracy(X_t,Y_t,weight_list,biases)\n",
        "  plt.plot(list(range(len(lossTotal))),lossTotal)\n",
        "  plt.show()\n",
        "  return '\\n\\nAccuracy : '+str(acc)"
      ],
      "execution_count": 223,
      "outputs": []
    },
    {
      "cell_type": "code",
      "metadata": {
        "colab": {
          "base_uri": "https://localhost:8080/",
          "height": 316
        },
        "id": "EvL5iadFRCjE",
        "outputId": "62fc4647-9b7b-49ed-ce5c-7114f8e0de84"
      },
      "source": [
        "print(complete_training(nueron_layers,X_t,Y_t,epochs=20,lr=0.1))"
      ],
      "execution_count": 224,
      "outputs": [
        {
          "output_type": "display_data",
          "data": {
            "image/png": "[encoded data removed]",
            "text/plain": [
              "<Figure size 432x288 with 1 Axes>"
            ]
          },
          "metadata": {
            "tags": [],
            "needs_background": "light"
          }
        },
        {
          "output_type": "stream",
          "text": [
            "\n",
            "\n",
            "Accuracy : 0.98\n"
          ],
          "name": "stdout"
        }
      ]
    },
    {
      "cell_type": "code",
      "metadata": {
        "colab": {
          "base_uri": "https://localhost:8080/",
          "height": 204
        },
        "id": "G5OBKEYIBMdv",
        "outputId": "ca6c9441-e8a4-4ed5-cab2-d40f85aaef6f"
      },
      "source": [
        "df = pd.read_csv('/content/Iris.csv')\n",
        "df = df.drop(columns=['Id'])\n",
        "df = shuffle(df)\n",
        "df.sample(5)"
      ],
      "execution_count": 225,
      "outputs": [
        {
          "output_type": "execute_result",
          "data": {
            "text/html": [
              "<div>\n",
              "<style scoped>\n",
              "    .dataframe tbody tr th:only-of-type {\n",
              "        vertical-align: middle;\n",
              "    }\n",
              "\n",
              "    .dataframe tbody tr th {\n",
              "        vertical-align: top;\n",
              "    }\n",
              "\n",
              "    .dataframe thead th {\n",
              "        text-align: right;\n",
              "    }\n",
              "</style>\n",
              "<table border=\"1\" class=\"dataframe\">\n",
              "  <thead>\n",
              "    <tr style=\"text-align: right;\">\n",
              "      <th></th>\n",
              "      <th>SepalLengthCm</th>\n",
              "      <th>SepalWidthCm</th>\n",
              "      <th>PetalLengthCm</th>\n",
              "      <th>PetalWidthCm</th>\n",
              "      <th>Species</th>\n",
              "    </tr>\n",
              "  </thead>\n",
              "  <tbody>\n",
              "    <tr>\n",
              "      <th>51</th>\n",
              "      <td>6.4</td>\n",
              "      <td>3.2</td>\n",
              "      <td>4.5</td>\n",
              "      <td>1.5</td>\n",
              "      <td>Iris-versicolor</td>\n",
              "    </tr>\n",
              "    <tr>\n",
              "      <th>147</th>\n",
              "      <td>6.5</td>\n",
              "      <td>3.0</td>\n",
              "      <td>5.2</td>\n",
              "      <td>2.0</td>\n",
              "      <td>Iris-virginica</td>\n",
              "    </tr>\n",
              "    <tr>\n",
              "      <th>7</th>\n",
              "      <td>5.0</td>\n",
              "      <td>3.4</td>\n",
              "      <td>1.5</td>\n",
              "      <td>0.2</td>\n",
              "      <td>Iris-setosa</td>\n",
              "    </tr>\n",
              "    <tr>\n",
              "      <th>140</th>\n",
              "      <td>6.7</td>\n",
              "      <td>3.1</td>\n",
              "      <td>5.6</td>\n",
              "      <td>2.4</td>\n",
              "      <td>Iris-virginica</td>\n",
              "    </tr>\n",
              "    <tr>\n",
              "      <th>82</th>\n",
              "      <td>5.8</td>\n",
              "      <td>2.7</td>\n",
              "      <td>3.9</td>\n",
              "      <td>1.2</td>\n",
              "      <td>Iris-versicolor</td>\n",
              "    </tr>\n",
              "  </tbody>\n",
              "</table>\n",
              "</div>"
            ],
            "text/plain": [
              "     SepalLengthCm  SepalWidthCm  PetalLengthCm  PetalWidthCm          Species\n",
              "51             6.4           3.2            4.5           1.5  Iris-versicolor\n",
              "147            6.5           3.0            5.2           2.0   Iris-virginica\n",
              "7              5.0           3.4            1.5           0.2      Iris-setosa\n",
              "140            6.7           3.1            5.6           2.4   Iris-virginica\n",
              "82             5.8           2.7            3.9           1.2  Iris-versicolor"
            ]
          },
          "metadata": {
            "tags": []
          },
          "execution_count": 225
        }
      ]
    },
    {
      "cell_type": "code",
      "metadata": {
        "colab": {
          "base_uri": "https://localhost:8080/",
          "height": 204
        },
        "id": "77a0SAtdB4QR",
        "outputId": "5d9fab08-01c4-48b6-f62c-b54daed52ac8"
      },
      "source": [
        "df1 = pd.get_dummies(df['Species'])\n",
        "df = df.drop(columns=['Species'])\n",
        "x = df.values #returns a numpy array\n",
        "min_max_scaler = preprocessing.MinMaxScaler()\n",
        "x_scaled = min_max_scaler.fit_transform(x)\n",
        "df = pd.DataFrame(x_scaled)\n",
        "df.head()"
      ],
      "execution_count": 226,
      "outputs": [
        {
          "output_type": "execute_result",
          "data": {
            "text/html": [
              "<div>\n",
              "<style scoped>\n",
              "    .dataframe tbody tr th:only-of-type {\n",
              "        vertical-align: middle;\n",
              "    }\n",
              "\n",
              "    .dataframe tbody tr th {\n",
              "        vertical-align: top;\n",
              "    }\n",
              "\n",
              "    .dataframe thead th {\n",
              "        text-align: right;\n",
              "    }\n",
              "</style>\n",
              "<table border=\"1\" class=\"dataframe\">\n",
              "  <thead>\n",
              "    <tr style=\"text-align: right;\">\n",
              "      <th></th>\n",
              "      <th>0</th>\n",
              "      <th>1</th>\n",
              "      <th>2</th>\n",
              "      <th>3</th>\n",
              "    </tr>\n",
              "  </thead>\n",
              "  <tbody>\n",
              "    <tr>\n",
              "      <th>0</th>\n",
              "      <td>0.666667</td>\n",
              "      <td>0.208333</td>\n",
              "      <td>0.813559</td>\n",
              "      <td>0.708333</td>\n",
              "    </tr>\n",
              "    <tr>\n",
              "      <th>1</th>\n",
              "      <td>0.083333</td>\n",
              "      <td>0.583333</td>\n",
              "      <td>0.067797</td>\n",
              "      <td>0.083333</td>\n",
              "    </tr>\n",
              "    <tr>\n",
              "      <th>2</th>\n",
              "      <td>0.166667</td>\n",
              "      <td>0.416667</td>\n",
              "      <td>0.067797</td>\n",
              "      <td>0.041667</td>\n",
              "    </tr>\n",
              "    <tr>\n",
              "      <th>3</th>\n",
              "      <td>0.611111</td>\n",
              "      <td>0.416667</td>\n",
              "      <td>0.813559</td>\n",
              "      <td>0.875000</td>\n",
              "    </tr>\n",
              "    <tr>\n",
              "      <th>4</th>\n",
              "      <td>0.333333</td>\n",
              "      <td>0.916667</td>\n",
              "      <td>0.067797</td>\n",
              "      <td>0.041667</td>\n",
              "    </tr>\n",
              "  </tbody>\n",
              "</table>\n",
              "</div>"
            ],
            "text/plain": [
              "          0         1         2         3\n",
              "0  0.666667  0.208333  0.813559  0.708333\n",
              "1  0.083333  0.583333  0.067797  0.083333\n",
              "2  0.166667  0.416667  0.067797  0.041667\n",
              "3  0.611111  0.416667  0.813559  0.875000\n",
              "4  0.333333  0.916667  0.067797  0.041667"
            ]
          },
          "metadata": {
            "tags": []
          },
          "execution_count": 226
        }
      ]
    },
    {
      "cell_type": "code",
      "metadata": {
        "colab": {
          "base_uri": "https://localhost:8080/"
        },
        "id": "6rHs_LWmDPLU",
        "outputId": "2e4425a3-543f-4364-9156-9066978e1592"
      },
      "source": [
        "X = df.values.tolist()\n",
        "print(X[:5])\n",
        "Y = df1.values.tolist()\n",
        "print(Y[:5])"
      ],
      "execution_count": 227,
      "outputs": [
        {
          "output_type": "stream",
          "text": [
            "[[0.6666666666666667, 0.20833333333333326, 0.8135593220338982, 0.7083333333333334], [0.08333333333333326, 0.5833333333333333, 0.06779661016949151, 0.08333333333333333], [0.16666666666666674, 0.41666666666666674, 0.06779661016949151, 0.04166666666666667], [0.6111111111111112, 0.41666666666666674, 0.8135593220338982, 0.8750000000000001], [0.33333333333333326, 0.9166666666666667, 0.06779661016949151, 0.04166666666666667]]\n",
            "[[0, 0, 1], [1, 0, 0], [1, 0, 0], [0, 0, 1], [1, 0, 0]]\n"
          ],
          "name": "stdout"
        }
      ]
    },
    {
      "cell_type": "code",
      "metadata": {
        "id": "7ze62ubWTNPN"
      },
      "source": [
        "def accuracy(X_t,Y_t,weight_list,biases):\n",
        "  correct = 0\n",
        "  for i in range(len(X_t)):\n",
        "    input = X_t[i]\n",
        "    z,a = forward_propogation(input,weight_list,biases)\n",
        "    if np.argmax(a[-1])==np.argmax(Y_t[i]):\n",
        "      correct+=1\n",
        "  return correct/len(X_t)"
      ],
      "execution_count": 228,
      "outputs": []
    },
    {
      "cell_type": "code",
      "metadata": {
        "colab": {
          "base_uri": "https://localhost:8080/",
          "height": 316
        },
        "id": "frXcXtYzD2xo",
        "outputId": "91cb68c0-e411-454f-803b-c507931d835c"
      },
      "source": [
        "nueron_layers = [4,16,8,3]\n",
        "print(complete_training(nueron_layers,X,Y,epochs=20,lr=0.1))"
      ],
      "execution_count": 229,
      "outputs": [
        {
          "output_type": "display_data",
          "data": {
            "image/png": "[encoded data removed]",
            "text/plain": [
              "<Figure size 432x288 with 1 Axes>"
            ]
          },
          "metadata": {
            "tags": [],
            "needs_background": "light"
          }
        },
        {
          "output_type": "stream",
          "text": [
            "\n",
            "\n",
            "Accuracy : 0.9666666666666667\n"
          ],
          "name": "stdout"
        }
      ]
    }
  ]
}