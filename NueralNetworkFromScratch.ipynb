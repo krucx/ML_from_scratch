{
  "nbformat": 4,
  "nbformat_minor": 0,
  "metadata": {
    "colab": {
      "name": "NueralNetworkFromScratch.ipynb",
      "provenance": [],
      "collapsed_sections": [],
      "authorship_tag": "ABX9TyOQOdWxH2GWR0huNEFtnb/U",
      "include_colab_link": true
    },
    "kernelspec": {
      "name": "python3",
      "display_name": "Python 3"
    },
    "language_info": {
      "name": "python"
    }
  },
  "cells": [
    {
      "cell_type": "markdown",
      "metadata": {
        "id": "view-in-github",
        "colab_type": "text"
      },
      "source": [
        "<a href=\"https://colab.research.google.com/github/krucx/ML_from_scratch/blob/main/NueralNetworkFromScratch.ipynb\" target=\"_parent\"><img src=\"https://colab.research.google.com/assets/colab-badge.svg\" alt=\"Open In Colab\"/></a>"
      ]
    },
    {
      "cell_type": "code",
      "metadata": {
        "id": "qtO3duLISI4X"
      },
      "source": [
        "import numpy as np\n",
        "import pandas as pd\n",
        "from sklearn import preprocessing\n",
        "import matplotlib.pyplot as plt\n",
        "from sklearn.utils import shuffle"
      ],
      "execution_count": 273,
      "outputs": []
    },
    {
      "cell_type": "code",
      "metadata": {
        "id": "46u8bAQ3SSmK"
      },
      "source": [
        "def initialise_weights(nueron_layers):\n",
        "  weight_list = []\n",
        "  biases = []\n",
        "  for i in range(len(nueron_layers)-1):\n",
        "    weight_list.append(np.random.randn(nueron_layers[i],nueron_layers[i+1]))\n",
        "    biases.append(np.random.randn(1,nueron_layers[i+1]))\n",
        "  \n",
        "  return weight_list,biases\n",
        "\n",
        "def sigmoid(z):\n",
        "  return 1/(1+np.exp(-z))\n",
        "\n",
        "def det_sigmoid(z):\n",
        "  return (np.exp(-z)/(1+np.exp(-z))**2)\n",
        "\n",
        "def tanh(z):\n",
        "  return (np.exp(z)-np.exp(-z))/(np.exp(-z)+np.exp(z))\n",
        "\n",
        "def det_tanh(z):\n",
        "  return 1-(tanh(z))**2\n",
        "\n",
        "def relu(z):\n",
        "  return max(0,z)\n",
        "\n",
        "def det_relu(z):\n",
        "  return (z>0)\n",
        "\n",
        "def leaky_relu(z,c=0.01):\n",
        "  return max(c*z,z)\n",
        "\n",
        "def det_leaky_relu(z,c=0.01):\n",
        "  return (z>0)*1 + (z<=0)*c\n",
        "\n",
        "function_dict = {'sig':sigmoid,'dsig':det_sigmoid,'tanh':tanh,'dtanh':det_tanh,'relu':relu,'drelu':det_relu,'lrelu':leaky_relu,'dlrelu':det_leaky_relu}\n",
        "\n",
        "def forward_propogation(activations,input,weight_list,biases):\n",
        "  x = np.reshape(np.array(input),(1,len(input)))\n",
        "  a = [x]\n",
        "  z = [1]\n",
        "  for i,weight in enumerate(weight_list):\n",
        "    x = np.matmul(x,weight) + biases[i]\n",
        "    z.append(x)\n",
        "    x = function_dict[activations[i]](x)\n",
        "    a.append(x)\n",
        "  return z,a\n",
        "\n",
        "def loss_function(predicted,expected):\n",
        "  return -1*np.sum(np.multiply(expected,np.log(predicted))+np.multiply(1-expected,np.log(1-predicted)))/3\n",
        "\n",
        "def backpropogation(activations,weight_list,biases,z,a,expected,lr):\n",
        "\n",
        "  #dz = a[-1] - expected\n",
        "  dz = ((1-expected)/(1-a[-1]) - expected/a[-1])*function_dict['d'+activations[-1]](z[-1])\n",
        "\n",
        "  for i in range(2,len(a)+1):\n",
        "    dw = np.matmul(a[-i].T,dz)\n",
        "    weight_list[1-i] = weight_list[1-i] - lr*dw\n",
        "    biases[1-i] = biases[1-i] - lr*dz\n",
        "    #print(weight_list[1-i].shape)\n",
        "    dz = np.matmul(dz,weight_list[1-i].T)*function_dict['d'+activations[-i]](z[-i])\n",
        "\n",
        "def training(activations,weight_list,biases,input,expected,lr):\n",
        "  l = len(expected)\n",
        "  expected = np.reshape(expected,(1,l))\n",
        "  z,a = forward_propogation(activations,input,weight_list,biases)\n",
        "  backpropogation(activations,weight_list,biases,z,a,expected,lr)\n",
        "  return loss_function(a[-1],expected)\n",
        "\n",
        "#bce = tf.keras.losses.BinaryCrossentropy(from_logits=False)\n",
        "#print(bce([[1.0,0.0,1.0]],predicted))"
      ],
      "execution_count": 274,
      "outputs": []
    },
    {
      "cell_type": "code",
      "metadata": {
        "colab": {
          "base_uri": "https://localhost:8080/",
          "height": 281
        },
        "id": "k1Cu66BkE2Yy",
        "outputId": "e35c5eaf-8717-4391-be83-396f0dfa8df9"
      },
      "source": [
        "boundary = [0.5,-1,0.25]\n",
        "\n",
        "def createDataset(theta=[0.5,-1,0.25],n=100):\n",
        "  X=[]\n",
        "  Y=[]\n",
        "  for i in range(n):\n",
        "    X.append([np.random.rand(), np.random.rand()])\n",
        "    if X[-1][0]*theta[0] + X[-1][1]*theta[1] + theta[2]>=0:\n",
        "      Y.append([1])\n",
        "    else:\n",
        "      Y.append([0])\n",
        "  return X,Y\n",
        "\n",
        "def visualize_dataset_with_basis(X,Y,theta,line_color='g'):\n",
        "  color = ['r' if i[0]==1 else 'b' for i in Y]\n",
        "  xs=[]\n",
        "  ys=[]\n",
        "  for i,j in X:\n",
        "    xs.append(i)\n",
        "    ys.append(j)\n",
        "  plt.scatter(x=xs,y=ys,c=color)\n",
        "  plt.plot(xs,(-theta[0]*np.array(xs)-theta[2])/theta[1],c=line_color)\n",
        "\n",
        "X_t,Y_t = createDataset(boundary,50)\n",
        "plt.title('Original Decision boundary')\n",
        "visualize_dataset_with_basis(X_t,Y_t,boundary)\n",
        "\n",
        "def accuracy(activations,X_t,Y_t,weight_list,biases):\n",
        "  correct = 0\n",
        "  for i in range(len(X_t)):\n",
        "    input = X_t[i]\n",
        "    z,a = forward_propogation(activations,input,weight_list,biases)\n",
        "    if (a[-1][0]>=0.5)==Y_t[i][0]:\n",
        "      correct+=1\n",
        "  return correct/len(X_t)"
      ],
      "execution_count": 275,
      "outputs": [
        {
          "output_type": "display_data",
          "data": {
            "image/png": "[encoded data removed]",
            "text/plain": [
              "<Figure size 432x288 with 1 Axes>"
            ]
          },
          "metadata": {
            "tags": [],
            "needs_background": "light"
          }
        }
      ]
    },
    {
      "cell_type": "code",
      "metadata": {
        "colab": {
          "base_uri": "https://localhost:8080/"
        },
        "id": "0IeQpyf7FP2U",
        "outputId": "5f39995a-df69-433d-a510-a4db76f12894"
      },
      "source": [
        "print(X_t[:5])\n",
        "print(Y_t[:5])"
      ],
      "execution_count": 276,
      "outputs": [
        {
          "output_type": "stream",
          "text": [
            "[[0.4499594005518074, 0.9515440053087604], [0.8621893030590964, 0.5022617303470349], [0.7227955357239152, 0.6041829247932313], [0.02430927669704952, 0.12574909965600445], [0.3296413741094386, 0.2405286064329536]]\n",
            "[[0], [1], [1], [1], [1]]\n"
          ],
          "name": "stdout"
        }
      ]
    },
    {
      "cell_type": "code",
      "metadata": {
        "id": "eJR5zkJ5GDGp"
      },
      "source": [
        "nueron_layers = [2,4,1] #list(map(int,input('Enter layer-wise nuerons').strip().split()))\n",
        "activations = ['sig','sig','sig']\n",
        "\n",
        "def complete_training(nueron_layers,activations,X_t,Y_t,epochs=20,lr=0.1):\n",
        "  weight_list,biases = initialise_weights(nueron_layers)\n",
        "  lossTotal = []\n",
        "  for i in range(epochs):\n",
        "    loss = 0\n",
        "    for i in range(len(X_t)):\n",
        "      input = X_t[i]\n",
        "      expected = Y_t[i]\n",
        "      loss += training(activations,weight_list,biases,input,expected,lr)\n",
        "    lossTotal.append(loss/len(X_t))\n",
        "  acc = accuracy(activations,X_t,Y_t,weight_list,biases)\n",
        "  plt.plot(list(range(len(lossTotal))),lossTotal)\n",
        "  plt.show()\n",
        "  return weight_list,biases,'\\n\\nAccuracy : '+str(acc)"
      ],
      "execution_count": 277,
      "outputs": []
    },
    {
      "cell_type": "code",
      "metadata": {
        "colab": {
          "base_uri": "https://localhost:8080/",
          "height": 316
        },
        "id": "EvL5iadFRCjE",
        "outputId": "bb47176f-5a2b-444a-9d79-dc6e0247c034"
      },
      "source": [
        "weight_list,biases,acc = complete_training(nueron_layers,activations,X_t,Y_t,epochs=20,lr=0.1)\n",
        "print(acc)"
      ],
      "execution_count": 278,
      "outputs": [
        {
          "output_type": "display_data",
          "data": {
            "image/png": "[encoded data removed]",
            "text/plain": [
              "<Figure size 432x288 with 1 Axes>"
            ]
          },
          "metadata": {
            "tags": [],
            "needs_background": "light"
          }
        },
        {
          "output_type": "stream",
          "text": [
            "\n",
            "\n",
            "Accuracy : 0.96\n"
          ],
          "name": "stdout"
        }
      ]
    },
    {
      "cell_type": "code",
      "metadata": {
        "colab": {
          "base_uri": "https://localhost:8080/",
          "height": 204
        },
        "id": "G5OBKEYIBMdv",
        "outputId": "d00f17fb-45fe-4e06-8259-c71bb2966466"
      },
      "source": [
        "df = pd.read_csv('/content/Iris.csv')\n",
        "df = df.drop(columns=['Id'])\n",
        "df = shuffle(df)\n",
        "df.sample(5)"
      ],
      "execution_count": 279,
      "outputs": [
        {
          "output_type": "execute_result",
          "data": {
            "text/html": [
              "<div>\n",
              "<style scoped>\n",
              "    .dataframe tbody tr th:only-of-type {\n",
              "        vertical-align: middle;\n",
              "    }\n",
              "\n",
              "    .dataframe tbody tr th {\n",
              "        vertical-align: top;\n",
              "    }\n",
              "\n",
              "    .dataframe thead th {\n",
              "        text-align: right;\n",
              "    }\n",
              "</style>\n",
              "<table border=\"1\" class=\"dataframe\">\n",
              "  <thead>\n",
              "    <tr style=\"text-align: right;\">\n",
              "      <th></th>\n",
              "      <th>SepalLengthCm</th>\n",
              "      <th>SepalWidthCm</th>\n",
              "      <th>PetalLengthCm</th>\n",
              "      <th>PetalWidthCm</th>\n",
              "      <th>Species</th>\n",
              "    </tr>\n",
              "  </thead>\n",
              "  <tbody>\n",
              "    <tr>\n",
              "      <th>113</th>\n",
              "      <td>5.7</td>\n",
              "      <td>2.5</td>\n",
              "      <td>5.0</td>\n",
              "      <td>2.0</td>\n",
              "      <td>Iris-virginica</td>\n",
              "    </tr>\n",
              "    <tr>\n",
              "      <th>96</th>\n",
              "      <td>5.7</td>\n",
              "      <td>2.9</td>\n",
              "      <td>4.2</td>\n",
              "      <td>1.3</td>\n",
              "      <td>Iris-versicolor</td>\n",
              "    </tr>\n",
              "    <tr>\n",
              "      <th>125</th>\n",
              "      <td>7.2</td>\n",
              "      <td>3.2</td>\n",
              "      <td>6.0</td>\n",
              "      <td>1.8</td>\n",
              "      <td>Iris-virginica</td>\n",
              "    </tr>\n",
              "    <tr>\n",
              "      <th>102</th>\n",
              "      <td>7.1</td>\n",
              "      <td>3.0</td>\n",
              "      <td>5.9</td>\n",
              "      <td>2.1</td>\n",
              "      <td>Iris-virginica</td>\n",
              "    </tr>\n",
              "    <tr>\n",
              "      <th>134</th>\n",
              "      <td>6.1</td>\n",
              "      <td>2.6</td>\n",
              "      <td>5.6</td>\n",
              "      <td>1.4</td>\n",
              "      <td>Iris-virginica</td>\n",
              "    </tr>\n",
              "  </tbody>\n",
              "</table>\n",
              "</div>"
            ],
            "text/plain": [
              "     SepalLengthCm  SepalWidthCm  PetalLengthCm  PetalWidthCm          Species\n",
              "113            5.7           2.5            5.0           2.0   Iris-virginica\n",
              "96             5.7           2.9            4.2           1.3  Iris-versicolor\n",
              "125            7.2           3.2            6.0           1.8   Iris-virginica\n",
              "102            7.1           3.0            5.9           2.1   Iris-virginica\n",
              "134            6.1           2.6            5.6           1.4   Iris-virginica"
            ]
          },
          "metadata": {
            "tags": []
          },
          "execution_count": 279
        }
      ]
    },
    {
      "cell_type": "code",
      "metadata": {
        "colab": {
          "base_uri": "https://localhost:8080/",
          "height": 204
        },
        "id": "77a0SAtdB4QR",
        "outputId": "9cb6e112-5df4-4105-a31d-cd87971b7ccd"
      },
      "source": [
        "df1 = pd.get_dummies(df['Species'])\n",
        "df = df.drop(columns=['Species'])\n",
        "x = df.values #returns a numpy array\n",
        "min_max_scaler = preprocessing.MinMaxScaler()\n",
        "x_scaled = min_max_scaler.fit_transform(x)\n",
        "df = pd.DataFrame(x_scaled)\n",
        "df.head()"
      ],
      "execution_count": 280,
      "outputs": [
        {
          "output_type": "execute_result",
          "data": {
            "text/html": [
              "<div>\n",
              "<style scoped>\n",
              "    .dataframe tbody tr th:only-of-type {\n",
              "        vertical-align: middle;\n",
              "    }\n",
              "\n",
              "    .dataframe tbody tr th {\n",
              "        vertical-align: top;\n",
              "    }\n",
              "\n",
              "    .dataframe thead th {\n",
              "        text-align: right;\n",
              "    }\n",
              "</style>\n",
              "<table border=\"1\" class=\"dataframe\">\n",
              "  <thead>\n",
              "    <tr style=\"text-align: right;\">\n",
              "      <th></th>\n",
              "      <th>0</th>\n",
              "      <th>1</th>\n",
              "      <th>2</th>\n",
              "      <th>3</th>\n",
              "    </tr>\n",
              "  </thead>\n",
              "  <tbody>\n",
              "    <tr>\n",
              "      <th>0</th>\n",
              "      <td>0.944444</td>\n",
              "      <td>0.333333</td>\n",
              "      <td>0.966102</td>\n",
              "      <td>0.791667</td>\n",
              "    </tr>\n",
              "    <tr>\n",
              "      <th>1</th>\n",
              "      <td>0.194444</td>\n",
              "      <td>0.125000</td>\n",
              "      <td>0.389831</td>\n",
              "      <td>0.375000</td>\n",
              "    </tr>\n",
              "    <tr>\n",
              "      <th>2</th>\n",
              "      <td>0.333333</td>\n",
              "      <td>0.125000</td>\n",
              "      <td>0.508475</td>\n",
              "      <td>0.500000</td>\n",
              "    </tr>\n",
              "    <tr>\n",
              "      <th>3</th>\n",
              "      <td>0.083333</td>\n",
              "      <td>0.500000</td>\n",
              "      <td>0.067797</td>\n",
              "      <td>0.041667</td>\n",
              "    </tr>\n",
              "    <tr>\n",
              "      <th>4</th>\n",
              "      <td>0.222222</td>\n",
              "      <td>0.625000</td>\n",
              "      <td>0.067797</td>\n",
              "      <td>0.041667</td>\n",
              "    </tr>\n",
              "  </tbody>\n",
              "</table>\n",
              "</div>"
            ],
            "text/plain": [
              "          0         1         2         3\n",
              "0  0.944444  0.333333  0.966102  0.791667\n",
              "1  0.194444  0.125000  0.389831  0.375000\n",
              "2  0.333333  0.125000  0.508475  0.500000\n",
              "3  0.083333  0.500000  0.067797  0.041667\n",
              "4  0.222222  0.625000  0.067797  0.041667"
            ]
          },
          "metadata": {
            "tags": []
          },
          "execution_count": 280
        }
      ]
    },
    {
      "cell_type": "code",
      "metadata": {
        "colab": {
          "base_uri": "https://localhost:8080/"
        },
        "id": "6rHs_LWmDPLU",
        "outputId": "7b5eb71a-610a-4986-c05e-b6775dc3c6e0"
      },
      "source": [
        "X = df.values.tolist()\n",
        "print(X[:5])\n",
        "Y = df1.values.tolist()\n",
        "print(Y[:5])"
      ],
      "execution_count": 281,
      "outputs": [
        {
          "output_type": "stream",
          "text": [
            "[[0.9444444444444442, 0.33333333333333326, 0.9661016949152543, 0.7916666666666667], [0.19444444444444442, 0.12499999999999989, 0.38983050847457623, 0.375], [0.33333333333333326, 0.12499999999999989, 0.5084745762711864, 0.5000000000000001], [0.08333333333333326, 0.5, 0.06779661016949151, 0.04166666666666667], [0.2222222222222221, 0.625, 0.06779661016949151, 0.04166666666666667]]\n",
            "[[0, 0, 1], [0, 1, 0], [0, 1, 0], [1, 0, 0], [1, 0, 0]]\n"
          ],
          "name": "stdout"
        }
      ]
    },
    {
      "cell_type": "code",
      "metadata": {
        "id": "7ze62ubWTNPN"
      },
      "source": [
        "def accuracy(activations,X_t,Y_t,weight_list,biases):\n",
        "  correct = 0\n",
        "  for i in range(len(X_t)):\n",
        "    input = X_t[i]\n",
        "    z,a = forward_propogation(activations,input,weight_list,biases)\n",
        "    if np.argmax(a[-1])==np.argmax(Y_t[i]):\n",
        "      correct+=1\n",
        "  return correct/len(X_t)"
      ],
      "execution_count": 282,
      "outputs": []
    },
    {
      "cell_type": "code",
      "metadata": {
        "colab": {
          "base_uri": "https://localhost:8080/",
          "height": 320
        },
        "id": "frXcXtYzD2xo",
        "outputId": "165a43a8-b96f-45ab-840a-64a6d247ab3f"
      },
      "source": [
        "nueron_layers = [4,16,8,3]\n",
        "activations = ['sig','sig','sig','sig']\n",
        "weight_list,biases,acc = complete_training(nueron_layers,activations,X[:125],Y[:125],epochs=20,lr=0.1)\n",
        "print(acc)"
      ],
      "execution_count": 283,
      "outputs": [
        {
          "output_type": "display_data",
          "data": {
            "image/png": "[encoded data removed]",
            "text/plain": [
              "<Figure size 432x288 with 1 Axes>"
            ]
          },
          "metadata": {
            "tags": [],
            "needs_background": "light"
          }
        },
        {
          "output_type": "stream",
          "text": [
            "\n",
            "\n",
            "Accuracy : 0.952\n"
          ],
          "name": "stdout"
        }
      ]
    },
    {
      "cell_type": "code",
      "metadata": {
        "colab": {
          "base_uri": "https://localhost:8080/"
        },
        "id": "_3ySu1WQacxI",
        "outputId": "2453b6bc-7807-47dc-a358-7154101f3177"
      },
      "source": [
        "accuracy(activations,X[125:],Y[125:],weight_list,biases)"
      ],
      "execution_count": 285,
      "outputs": [
        {
          "output_type": "execute_result",
          "data": {
            "text/plain": [
              "0.96"
            ]
          },
          "metadata": {
            "tags": []
          },
          "execution_count": 285
        }
      ]
    }
  ]
}