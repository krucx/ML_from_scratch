{
  "nbformat": 4,
  "nbformat_minor": 0,
  "metadata": {
    "colab": {
      "name": "Svm_from_scratch.ipynb",
      "provenance": [],
      "collapsed_sections": [],
      "authorship_tag": "ABX9TyPbOqGb+XwPdDrqBEvP4/fn",
      "include_colab_link": true
    },
    "kernelspec": {
      "name": "python3",
      "display_name": "Python 3"
    }
  },
  "cells": [
    {
      "cell_type": "markdown",
      "metadata": {
        "id": "view-in-github",
        "colab_type": "text"
      },
      "source": [
        "<a href=\"https://colab.research.google.com/github/krucx/ML_from_scratch/blob/main/Svm_from_scratch.ipynb\" target=\"_parent\"><img src=\"https://colab.research.google.com/assets/colab-badge.svg\" alt=\"Open In Colab\"/></a>"
      ]
    },
    {
      "cell_type": "code",
      "metadata": {
        "id": "6UAUowdD-SON"
      },
      "source": [
        "import numpy as np\n",
        "import pandas as pd\n",
        "import matplotlib.pyplot as plt\n",
        "import seaborn as sns"
      ],
      "execution_count": null,
      "outputs": []
    },
    {
      "cell_type": "code",
      "metadata": {
        "id": "N5iqERLd-UnM"
      },
      "source": [
        "# global variables\n",
        "boundary = [0.5,-1,0.25]"
      ],
      "execution_count": null,
      "outputs": []
    },
    {
      "cell_type": "code",
      "metadata": {
        "id": "yKe3kQBL-XEK"
      },
      "source": [
        "def createDataset(theta=[0.5,-1,0.25],n=100,margin=0.2):\n",
        "  X=[]\n",
        "  Y=[]\n",
        "  i=0\n",
        "  while i<n:\n",
        "    x = [np.random.rand(), np.random.rand()]\n",
        "    if x[0]*theta[0] + x[1]*theta[1] + theta[2]>=margin:\n",
        "      Y.append(1)\n",
        "      X.append(x)\n",
        "      i+=1\n",
        "    elif x[0]*theta[0] + x[1]*theta[1] + theta[2]<=-margin:\n",
        "      Y.append(-1)\n",
        "      X.append(x)\n",
        "      i+=1\n",
        "  return X,Y"
      ],
      "execution_count": null,
      "outputs": []
    },
    {
      "cell_type": "code",
      "metadata": {
        "id": "fhIa31qq-ayl"
      },
      "source": [
        "def visualize_dataset_with_basis(X,Y,theta,line_color='g'):\n",
        "  color = ['r' if i==1 else 'b' for i in Y]\n",
        "  xs=[]\n",
        "  ys=[]\n",
        "  for i,j in X:\n",
        "    xs.append(i)\n",
        "    ys.append(j)\n",
        "  plt.scatter(x=xs,y=ys,c=color)\n",
        "  plt.plot(xs,(-theta[0]*np.array(xs)-theta[2])/theta[1],c=line_color)"
      ],
      "execution_count": null,
      "outputs": []
    },
    {
      "cell_type": "code",
      "metadata": {
        "id": "FlCFNg1X-eLJ",
        "colab": {
          "base_uri": "https://localhost:8080/",
          "height": 281
        },
        "outputId": "eab87a0c-9c73-4f6f-be35-9b03ee74ca3c"
      },
      "source": [
        "X_t,Y_t = createDataset(boundary,50,0.2)\n",
        "plt.title('Original Decision boundary with margin')\n",
        "visualize_dataset_with_basis(X_t,Y_t,boundary)"
      ],
      "execution_count": null,
      "outputs": [
        {
          "output_type": "display_data",
          "data": {
            "image/png": "[encoded data removed]",
            "text/plain": [
              "<Figure size 432x288 with 1 Axes>"
            ]
          },
          "metadata": {
            "tags": [],
            "needs_background": "light"
          }
        }
      ]
    },
    {
      "cell_type": "code",
      "metadata": {
        "id": "0gYbOpcxA-6q",
        "colab": {
          "base_uri": "https://localhost:8080/",
          "height": 51
        },
        "outputId": "ad7cffa9-5ef5-462a-8de7-91e4544fd162"
      },
      "source": [
        "X_t = np.array(X_t)\n",
        "X = np.append(X_t,np.ones((X_t.shape[0],1)),axis=1)\n",
        "Y = np.array(Y_t)\n",
        "\n",
        "print(Y.shape)\n",
        "print(X.shape)"
      ],
      "execution_count": null,
      "outputs": [
        {
          "output_type": "stream",
          "text": [
            "(50,)\n",
            "(50, 3)\n"
          ],
          "name": "stdout"
        }
      ]
    },
    {
      "cell_type": "code",
      "metadata": {
        "id": "nZgT7kKVDyt8"
      },
      "source": [
        "def shuffle(X,Y):\n",
        "  m = X.shape[1]\n",
        "  y = Y.reshape((Y.shape[0],1))\n",
        "  combined = np.append(X,y,axis=1)\n",
        "  np.random.shuffle(combined)\n",
        "  return combined[:,:m],combined[:,m:].reshape(Y.shape[0])"
      ],
      "execution_count": null,
      "outputs": []
    },
    {
      "cell_type": "code",
      "metadata": {
        "id": "FATVDBVjB6UF"
      },
      "source": [
        "def hingeloss1(X,Y,theta):\n",
        "  return (1/X.shape[0])*np.sum(((1-Y*np.dot(X,theta.T))>0)*(1-Y*np.dot(X,theta.T)))"
      ],
      "execution_count": null,
      "outputs": []
    },
    {
      "cell_type": "code",
      "metadata": {
        "id": "FYuY27nICdKa"
      },
      "source": [
        "def Svm(X,Y,theta,epochs=1000,C=1,lr=0.01):\n",
        "  loss = []\n",
        "  for j in range(epochs):\n",
        "    for i in range(X.shape[0]):\n",
        "      if Y[i]*np.dot(X[i],theta) < 1:\n",
        "        theta = (1-lr)*theta +lr*C*Y[i]*X[i] \n",
        "    loss.append(hingeloss1(X,Y,theta))\n",
        "  return theta,loss"
      ],
      "execution_count": null,
      "outputs": []
    },
    {
      "cell_type": "code",
      "metadata": {
        "id": "MKxA31bnDtbK",
        "colab": {
          "base_uri": "https://localhost:8080/",
          "height": 299
        },
        "outputId": "9f3fac0c-b9e4-41b6-ba36-73b02709b9a5"
      },
      "source": [
        "epochs = 1000\n",
        "C = 50\n",
        "X,Y=shuffle(X,Y)\n",
        "theta = np.random.randn(X.shape[1])\n",
        "theta,loss = Svm(X,Y,theta,epochs,C,0.01)\n",
        "print(theta)\n",
        "print(loss[-1])\n",
        "plt.plot(range(len(loss)),loss)\n",
        "plt.show()"
      ],
      "execution_count": null,
      "outputs": [
        {
          "output_type": "stream",
          "text": [
            "[ 2.28708059 -5.18642053  1.45939039]\n",
            "0.0\n"
          ],
          "name": "stdout"
        },
        {
          "output_type": "display_data",
          "data": {
            "image/png": "[encoded data removed]",
            "text/plain": [
              "<Figure size 432x288 with 1 Axes>"
            ]
          },
          "metadata": {
            "tags": [],
            "needs_background": "light"
          }
        }
      ]
    },
    {
      "cell_type": "code",
      "metadata": {
        "id": "daPTIhuaFsot",
        "colab": {
          "base_uri": "https://localhost:8080/",
          "height": 281
        },
        "outputId": "6ac3087e-1146-426b-92b2-543934f65fd6"
      },
      "source": [
        "plt.title('SVM')\n",
        "support_vector1 = theta + [0,0,1]\n",
        "support_vector2 = theta + [0,0,-1]\n",
        "visualize_dataset_with_basis(X_t,Y_t,theta,'y')\n",
        "visualize_dataset_with_basis(X_t,Y_t,support_vector1,'y')\n",
        "visualize_dataset_with_basis(X_t,Y_t,support_vector2,'y')\n",
        "visualize_dataset_with_basis(X_t,Y_t,boundary,'g')"
      ],
      "execution_count": null,
      "outputs": [
        {
          "output_type": "display_data",
          "data": {
            "image/png": "[encoded data removed]",
            "text/plain": [
              "<Figure size 432x288 with 1 Axes>"
            ]
          },
          "metadata": {
            "tags": [],
            "needs_background": "light"
          }
        }
      ]
    }
  ]
}