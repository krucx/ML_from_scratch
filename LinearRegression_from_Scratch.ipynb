{
  "nbformat": 4,
  "nbformat_minor": 0,
  "metadata": {
    "colab": {
      "name": "LinearRegression_from_Scratch.ipynb",
      "provenance": [],
      "collapsed_sections": [],
      "authorship_tag": "ABX9TyP3VHubqCGDq8TMXf7Sn5jP",
      "include_colab_link": true
    },
    "kernelspec": {
      "name": "python3",
      "display_name": "Python 3"
    }
  },
  "cells": [
    {
      "cell_type": "markdown",
      "metadata": {
        "id": "view-in-github",
        "colab_type": "text"
      },
      "source": [
        "<a href=\"https://colab.research.google.com/github/krucx/ML_from_scratch/blob/main/LinearRegression_from_Scratch.ipynb\" target=\"_parent\"><img src=\"https://colab.research.google.com/assets/colab-badge.svg\" alt=\"Open In Colab\"/></a>"
      ]
    },
    {
      "cell_type": "code",
      "metadata": {
        "id": "0sszFEz7dHNx"
      },
      "source": [
        "import numpy as np\n",
        "import pandas as pd\n",
        "import matplotlib.pyplot as plt\n",
        "import seaborn as sns\n",
        "from sklearn.linear_model import LinearRegression"
      ],
      "execution_count": null,
      "outputs": []
    },
    {
      "cell_type": "code",
      "metadata": {
        "id": "MQsybFI8drZp",
        "colab": {
          "base_uri": "https://localhost:8080/",
          "height": 359
        },
        "outputId": "cf6d8ff3-a0fa-4c52-c67f-639ca5745b1a"
      },
      "source": [
        "df = pd.read_csv(\"/content/weight-height.csv\")\n",
        "df.head(10)"
      ],
      "execution_count": null,
      "outputs": [
        {
          "output_type": "execute_result",
          "data": {
            "text/html": [
              "<div>\n",
              "<style scoped>\n",
              "    .dataframe tbody tr th:only-of-type {\n",
              "        vertical-align: middle;\n",
              "    }\n",
              "\n",
              "    .dataframe tbody tr th {\n",
              "        vertical-align: top;\n",
              "    }\n",
              "\n",
              "    .dataframe thead th {\n",
              "        text-align: right;\n",
              "    }\n",
              "</style>\n",
              "<table border=\"1\" class=\"dataframe\">\n",
              "  <thead>\n",
              "    <tr style=\"text-align: right;\">\n",
              "      <th></th>\n",
              "      <th>Gender</th>\n",
              "      <th>Height</th>\n",
              "      <th>Weight</th>\n",
              "    </tr>\n",
              "  </thead>\n",
              "  <tbody>\n",
              "    <tr>\n",
              "      <th>0</th>\n",
              "      <td>Male</td>\n",
              "      <td>73.847017</td>\n",
              "      <td>241.893563</td>\n",
              "    </tr>\n",
              "    <tr>\n",
              "      <th>1</th>\n",
              "      <td>Male</td>\n",
              "      <td>68.781904</td>\n",
              "      <td>162.310473</td>\n",
              "    </tr>\n",
              "    <tr>\n",
              "      <th>2</th>\n",
              "      <td>Male</td>\n",
              "      <td>74.110105</td>\n",
              "      <td>212.740856</td>\n",
              "    </tr>\n",
              "    <tr>\n",
              "      <th>3</th>\n",
              "      <td>Male</td>\n",
              "      <td>71.730978</td>\n",
              "      <td>220.042470</td>\n",
              "    </tr>\n",
              "    <tr>\n",
              "      <th>4</th>\n",
              "      <td>Male</td>\n",
              "      <td>69.881796</td>\n",
              "      <td>206.349801</td>\n",
              "    </tr>\n",
              "    <tr>\n",
              "      <th>5</th>\n",
              "      <td>Male</td>\n",
              "      <td>67.253016</td>\n",
              "      <td>152.212156</td>\n",
              "    </tr>\n",
              "    <tr>\n",
              "      <th>6</th>\n",
              "      <td>Male</td>\n",
              "      <td>68.785081</td>\n",
              "      <td>183.927889</td>\n",
              "    </tr>\n",
              "    <tr>\n",
              "      <th>7</th>\n",
              "      <td>Male</td>\n",
              "      <td>68.348516</td>\n",
              "      <td>167.971110</td>\n",
              "    </tr>\n",
              "    <tr>\n",
              "      <th>8</th>\n",
              "      <td>Male</td>\n",
              "      <td>67.018950</td>\n",
              "      <td>175.929440</td>\n",
              "    </tr>\n",
              "    <tr>\n",
              "      <th>9</th>\n",
              "      <td>Male</td>\n",
              "      <td>63.456494</td>\n",
              "      <td>156.399676</td>\n",
              "    </tr>\n",
              "  </tbody>\n",
              "</table>\n",
              "</div>"
            ],
            "text/plain": [
              "  Gender     Height      Weight\n",
              "0   Male  73.847017  241.893563\n",
              "1   Male  68.781904  162.310473\n",
              "2   Male  74.110105  212.740856\n",
              "3   Male  71.730978  220.042470\n",
              "4   Male  69.881796  206.349801\n",
              "5   Male  67.253016  152.212156\n",
              "6   Male  68.785081  183.927889\n",
              "7   Male  68.348516  167.971110\n",
              "8   Male  67.018950  175.929440\n",
              "9   Male  63.456494  156.399676"
            ]
          },
          "metadata": {
            "tags": []
          },
          "execution_count": 8
        }
      ]
    },
    {
      "cell_type": "code",
      "metadata": {
        "id": "8AuHNV0jpcU1"
      },
      "source": [
        "df = pd.get_dummies(data=df,columns=['Gender'])\n",
        "df=df.drop(['Gender_Female'],axis=1)"
      ],
      "execution_count": null,
      "outputs": []
    },
    {
      "cell_type": "code",
      "metadata": {
        "id": "MTQfqyYfqwcA",
        "colab": {
          "base_uri": "https://localhost:8080/",
          "height": 419
        },
        "outputId": "a887593f-343c-4dca-fb28-d3a420b1acbb"
      },
      "source": [
        "height_mean = df['Height'].mean()\n",
        "height_std = df['Height'].std()\n",
        "weight_mean = df['Weight'].mean()\n",
        "weight_std = df['Weight'].std()\n",
        "df['Height'] = (df['Height']-height_mean)/height_std\n",
        "df['Weight'] = (df['Weight']-weight_mean)/weight_std\n",
        "df"
      ],
      "execution_count": null,
      "outputs": [
        {
          "output_type": "execute_result",
          "data": {
            "text/html": [
              "<div>\n",
              "<style scoped>\n",
              "    .dataframe tbody tr th:only-of-type {\n",
              "        vertical-align: middle;\n",
              "    }\n",
              "\n",
              "    .dataframe tbody tr th {\n",
              "        vertical-align: top;\n",
              "    }\n",
              "\n",
              "    .dataframe thead th {\n",
              "        text-align: right;\n",
              "    }\n",
              "</style>\n",
              "<table border=\"1\" class=\"dataframe\">\n",
              "  <thead>\n",
              "    <tr style=\"text-align: right;\">\n",
              "      <th></th>\n",
              "      <th>Height</th>\n",
              "      <th>Weight</th>\n",
              "      <th>Gender_Male</th>\n",
              "    </tr>\n",
              "  </thead>\n",
              "  <tbody>\n",
              "    <tr>\n",
              "      <th>0</th>\n",
              "      <td>1.943964</td>\n",
              "      <td>2.505672</td>\n",
              "      <td>1</td>\n",
              "    </tr>\n",
              "    <tr>\n",
              "      <th>1</th>\n",
              "      <td>0.627505</td>\n",
              "      <td>0.027099</td>\n",
              "      <td>1</td>\n",
              "    </tr>\n",
              "    <tr>\n",
              "      <th>2</th>\n",
              "      <td>2.012343</td>\n",
              "      <td>1.597726</td>\n",
              "      <td>1</td>\n",
              "    </tr>\n",
              "    <tr>\n",
              "      <th>3</th>\n",
              "      <td>1.393991</td>\n",
              "      <td>1.825131</td>\n",
              "      <td>1</td>\n",
              "    </tr>\n",
              "    <tr>\n",
              "      <th>4</th>\n",
              "      <td>0.913375</td>\n",
              "      <td>1.398680</td>\n",
              "      <td>1</td>\n",
              "    </tr>\n",
              "    <tr>\n",
              "      <th>...</th>\n",
              "      <td>...</td>\n",
              "      <td>...</td>\n",
              "      <td>...</td>\n",
              "    </tr>\n",
              "    <tr>\n",
              "      <th>9995</th>\n",
              "      <td>-0.050658</td>\n",
              "      <td>-0.768113</td>\n",
              "      <td>0</td>\n",
              "    </tr>\n",
              "    <tr>\n",
              "      <th>9996</th>\n",
              "      <td>0.181830</td>\n",
              "      <td>0.293616</td>\n",
              "      <td>0</td>\n",
              "    </tr>\n",
              "    <tr>\n",
              "      <th>9997</th>\n",
              "      <td>-0.649655</td>\n",
              "      <td>-1.026678</td>\n",
              "      <td>0</td>\n",
              "    </tr>\n",
              "    <tr>\n",
              "      <th>9998</th>\n",
              "      <td>0.693090</td>\n",
              "      <td>0.075124</td>\n",
              "      <td>0</td>\n",
              "    </tr>\n",
              "    <tr>\n",
              "      <th>9999</th>\n",
              "      <td>-1.149651</td>\n",
              "      <td>-1.488433</td>\n",
              "      <td>0</td>\n",
              "    </tr>\n",
              "  </tbody>\n",
              "</table>\n",
              "<p>10000 rows × 3 columns</p>\n",
              "</div>"
            ],
            "text/plain": [
              "        Height    Weight  Gender_Male\n",
              "0     1.943964  2.505672            1\n",
              "1     0.627505  0.027099            1\n",
              "2     2.012343  1.597726            1\n",
              "3     1.393991  1.825131            1\n",
              "4     0.913375  1.398680            1\n",
              "...        ...       ...          ...\n",
              "9995 -0.050658 -0.768113            0\n",
              "9996  0.181830  0.293616            0\n",
              "9997 -0.649655 -1.026678            0\n",
              "9998  0.693090  0.075124            0\n",
              "9999 -1.149651 -1.488433            0\n",
              "\n",
              "[10000 rows x 3 columns]"
            ]
          },
          "metadata": {
            "tags": []
          },
          "execution_count": 10
        }
      ]
    },
    {
      "cell_type": "code",
      "metadata": {
        "id": "b6ezwI48r_74",
        "colab": {
          "base_uri": "https://localhost:8080/",
          "height": 136
        },
        "outputId": "e06c34c0-5ff0-4cb9-9135-09a0cfac4b33"
      },
      "source": [
        "X_t = pd.concat([df['Height'],df['Gender_Male']],axis=1).to_numpy()\n",
        "X = np.append(X_t,np.ones((X_t.shape[0],1)),axis=1)\n",
        "Y = df['Weight'].to_numpy()\n",
        "Y.reshape((X.shape[0]),1)"
      ],
      "execution_count": null,
      "outputs": [
        {
          "output_type": "execute_result",
          "data": {
            "text/plain": [
              "array([[ 2.50567168],\n",
              "       [ 0.02709928],\n",
              "       [ 1.59772634],\n",
              "       ...,\n",
              "       [-1.02667831],\n",
              "       [ 0.07512369],\n",
              "       [-1.48843281]])"
            ]
          },
          "metadata": {
            "tags": []
          },
          "execution_count": 11
        }
      ]
    },
    {
      "cell_type": "code",
      "metadata": {
        "id": "WLS_lg8dsbYJ",
        "colab": {
          "base_uri": "https://localhost:8080/",
          "height": 51
        },
        "outputId": "05ce6b10-a1fa-44c0-dc2c-34c729bed2e6"
      },
      "source": [
        "print(Y.shape)\n",
        "print(X.shape)"
      ],
      "execution_count": null,
      "outputs": [
        {
          "output_type": "stream",
          "text": [
            "(10000,)\n",
            "(10000, 3)\n"
          ],
          "name": "stdout"
        }
      ]
    },
    {
      "cell_type": "code",
      "metadata": {
        "id": "ne868ce8uHDO"
      },
      "source": [
        "def mse(X,Y,theta):\n",
        "  return (1/(2*X.shape[0]))*np.sum((np.dot(X,theta.T)-Y)**2)"
      ],
      "execution_count": null,
      "outputs": []
    },
    {
      "cell_type": "code",
      "metadata": {
        "id": "E-v2Lw_ZtKWE"
      },
      "source": [
        "# Using formulae for doing this theta = (X'X)^-1.X'Y\n",
        "def linearReg_f(X,Y):\n",
        "  theta_f = np.dot(np.linalg.pinv(np.dot(X.T,X)),np.dot(X.T,Y))\n",
        "  loss = mse(X,Y,theta_f)\n",
        "  return theta_f,loss"
      ],
      "execution_count": null,
      "outputs": []
    },
    {
      "cell_type": "code",
      "metadata": {
        "id": "5PHOr0xXBjlu",
        "colab": {
          "base_uri": "https://localhost:8080/",
          "height": 51
        },
        "outputId": "e6fdab75-657a-49a0-cfb0-4ce4aa3709ea"
      },
      "source": [
        "theta_f,loss = linearReg_f(X,Y)\n",
        "print(loss)\n",
        "print(theta_f)"
      ],
      "execution_count": null,
      "outputs": [
        {
          "output_type": "stream",
          "text": [
            "0.04862105094764168\n",
            "[ 0.716212    0.60350833 -0.30175417]\n"
          ],
          "name": "stdout"
        }
      ]
    },
    {
      "cell_type": "code",
      "metadata": {
        "id": "5lLSUEc3v--I"
      },
      "source": [
        "# Using formulae for doing this theta = (X'X)^-1.X'Y\n",
        "def linearReg_gd(X,Y,theta,epochs=1000,l_r=0.3):\n",
        "  loss = []\n",
        "  for i in range(epochs):\n",
        "    theta_update = (1/X.shape[0])*np.dot(X.T,(np.dot(X,theta.T)-Y))\n",
        "    theta = theta - l_r*theta_update\n",
        "    loss.append(mse(X,Y,theta))\n",
        "  return theta,loss"
      ],
      "execution_count": null,
      "outputs": []
    },
    {
      "cell_type": "code",
      "metadata": {
        "id": "ZkgeMumHBcj6",
        "colab": {
          "base_uri": "https://localhost:8080/",
          "height": 299
        },
        "outputId": "00e74923-5213-45d5-a760-ab5e6733cbb9"
      },
      "source": [
        "epochs=1000\n",
        "theta = np.random.randn(X.shape[1])\n",
        "theta,loss = linearReg_gd(X,Y,theta,epochs)\n",
        "plt.plot(range(epochs),loss)\n",
        "print(theta)\n",
        "print(loss[-1])"
      ],
      "execution_count": null,
      "outputs": [
        {
          "output_type": "stream",
          "text": [
            "[ 0.716212    0.60350833 -0.30175417]\n",
            "0.04862105094764168\n"
          ],
          "name": "stdout"
        },
        {
          "output_type": "display_data",
          "data": {
            "image/png": "[encoded data removed]",
            "text/plain": [
              "<Figure size 432x288 with 1 Axes>"
            ]
          },
          "metadata": {
            "tags": [],
            "needs_background": "light"
          }
        }
      ]
    },
    {
      "cell_type": "code",
      "metadata": {
        "id": "AloYebq-4iPe"
      },
      "source": [
        "#conclusion i got same results with formulae and gradient descent \n",
        "def testRandomlyOnDataset(X,Y,theta):\n",
        "  index = np.random.randint(X.shape[0])\n",
        "  prediction = np.dot(X[index],theta.T)\n",
        "  pred_wt = prediction*weight_std + weight_mean\n",
        "  actual_wt = Y[index]*weight_std + weight_mean\n",
        "  print(\"Prediction {}   Expected {}\".format(pred_wt,actual_wt))"
      ],
      "execution_count": null,
      "outputs": []
    },
    {
      "cell_type": "code",
      "metadata": {
        "id": "9eSSOn8DCewh",
        "colab": {
          "base_uri": "https://localhost:8080/",
          "height": 34
        },
        "outputId": "77d201bc-b7d7-47da-bfae-8fa3c9011fdb"
      },
      "source": [
        "testRandomlyOnDataset(X,Y,theta)"
      ],
      "execution_count": null,
      "outputs": [
        {
          "output_type": "stream",
          "text": [
            "Prediction 196.46069190857722   Expected 197.341247176261\n"
          ],
          "name": "stdout"
        }
      ]
    },
    {
      "cell_type": "code",
      "metadata": {
        "id": "j3yL5UfC6ITf"
      },
      "source": [
        "def visualize_results(X,Y,theta):\n",
        "  male_height = []\n",
        "  male_weight = []\n",
        "  female_height = []\n",
        "  female_weight = []\n",
        "  male_weight_pred = []\n",
        "  female_weight_pred = []\n",
        "  count=0\n",
        "  for i in X:\n",
        "    if i[1]==1:\n",
        "      male_height.append(i[0]*height_std + height_mean)\n",
        "      male_weight_pred.append(np.dot(i,theta.T)*weight_std + weight_mean)\n",
        "      male_weight.append(Y[count]*weight_std + weight_mean)\n",
        "    else:\n",
        "      female_height.append(i[0]*height_std + height_mean)\n",
        "      female_weight_pred.append(np.dot(i,theta.T)*weight_std + weight_mean)\n",
        "      female_weight.append(Y[count]*weight_std + weight_mean)\n",
        "    count+=1\n",
        "  plt.plot(male_height,male_weight_pred,c='r')\n",
        "  plt.scatter(x=male_height,y=male_weight,c='b')\n",
        "  plt.title(\"For Males\")\n",
        "  plt.xlabel(\"Height\")\n",
        "  plt.ylabel(\"Weight\")\n",
        "  plt.show()\n",
        "  plt.plot(female_height,female_weight_pred,c='y')\n",
        "  plt.scatter(x=female_height,y=female_weight,c='g')\n",
        "  plt.title(\"For Females\")\n",
        "  plt.xlabel(\"Height\")\n",
        "  plt.ylabel(\"Weight\")\n",
        "  plt.show()\n",
        "  plt.plot(male_height,male_weight_pred,c='r')\n",
        "  plt.scatter(x=male_height,y=male_weight,c='b')\n",
        "  plt.plot(female_height,female_weight_pred,c='y')\n",
        "  plt.scatter(x=female_height,y=female_weight,c='g')\n",
        "  plt.title(\"Combined\")\n",
        "  plt.xlabel(\"Height\")\n",
        "  plt.ylabel(\"Weight\")\n",
        "  plt.show()"
      ],
      "execution_count": null,
      "outputs": []
    },
    {
      "cell_type": "code",
      "metadata": {
        "id": "rlbI-BlYC7wE",
        "colab": {
          "base_uri": "https://localhost:8080/",
          "height": 851
        },
        "outputId": "34aed4be-52f7-49ec-e278-7c6ffb3f1abd"
      },
      "source": [
        "visualize_results(X,Y,theta)"
      ],
      "execution_count": null,
      "outputs": [
        {
          "output_type": "display_data",
          "data": {
            "image/png": "[encoded data removed]",
            "text/plain": [
              "<Figure size 432x288 with 1 Axes>"
            ]
          },
          "metadata": {
            "tags": [],
            "needs_background": "light"
          }
        },
        {
          "output_type": "display_data",
          "data": {
            "image/png": "[encoded data removed]",
            "text/plain": [
              "<Figure size 432x288 with 1 Axes>"
            ]
          },
          "metadata": {
            "tags": [],
            "needs_background": "light"
          }
        },
        {
          "output_type": "display_data",
          "data": {
            "image/png": "[encoded data removed]",
            "text/plain": [
              "<Figure size 432x288 with 1 Axes>"
            ]
          },
          "metadata": {
            "tags": [],
            "needs_background": "light"
          }
        }
      ]
    },
    {
      "cell_type": "code",
      "metadata": {
        "id": "WOQxBapKDEOd",
        "colab": {
          "base_uri": "https://localhost:8080/",
          "height": 34
        },
        "outputId": "bb39bf4f-360a-45bf-d513-5032c7ac242a"
      },
      "source": [
        "# Using scikit learn\n",
        "reg = LinearRegression().fit(X_t, Y)\n",
        "print(np.append(reg.coef_,reg.intercept_))"
      ],
      "execution_count": null,
      "outputs": [
        {
          "output_type": "stream",
          "text": [
            "[ 0.716212    0.60350833 -0.30175417]\n"
          ],
          "name": "stdout"
        }
      ]
    }
  ]
}